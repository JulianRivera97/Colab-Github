{
  "nbformat": 4,
  "nbformat_minor": 0,
  "metadata": {
    "colab": {
      "provenance": []
    },
    "kernelspec": {
      "name": "python3",
      "display_name": "Python 3"
    },
    "language_info": {
      "name": "python"
    }
  },
  "cells": [
    {
      "cell_type": "code",
      "execution_count": null,
      "metadata": {
        "colab": {
          "base_uri": "https://localhost:8080/"
        },
        "id": "l--60HsS3Hq9",
        "outputId": "91f9cbf2-29ef-4cb3-d5cd-b603e8f0de15"
      },
      "outputs": [
        {
          "output_type": "stream",
          "name": "stdout",
          "text": [
            "Ingrese el primer número: 3\n",
            "Ingrese el segundo número: 4\n",
            "La suma de 3.0 y 4.0 es: 7.0\n"
          ]
        }
      ],
      "source": [
        "# Solicitar al usuario que ingrese dos números\n",
        "numero1 = float(input(\"Ingrese el primer número: \"))\n",
        "numero2 = float(input(\"Ingrese el segundo número: \"))\n",
        "\n",
        "# Sumar los dos números\n",
        "suma = numero1 + numero2\n",
        "\n",
        "# Mostrar el resultado\n",
        "print(f\"La suma de {numero1} y {numero2} es: {suma}\")\n"
      ]
    }
  ]
}